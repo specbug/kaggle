{
  "nbformat": 4,
  "nbformat_minor": 0,
  "metadata": {
    "colab": {
      "name": "Titanic.ipynb",
      "version": "0.3.2",
      "provenance": [],
      "collapsed_sections": []
    },
    "kernelspec": {
      "name": "python3",
      "display_name": "Python 3"
    },
    "accelerator": "TPU"
  },
  "cells": [
    {
      "metadata": {
        "id": "qveFAuJXKpw7",
        "colab_type": "code",
        "colab": {}
      },
      "cell_type": "code",
      "source": [
        "import pandas as pd\n",
        "import numpy as np\n",
        "from sklearn.model_selection import train_test_split\n",
        "from sklearn.svm import SVC\n",
        "from time import time\n",
        "from sklearn.metrics import accuracy_score\n",
        "import csv\n",
        "\n",
        "df = pd.read_csv('train.csv')\n",
        "df1 = pd.read_csv('test.csv')"
      ],
      "execution_count": 0,
      "outputs": []
    },
    {
      "metadata": {
        "id": "CD6Unq4MgXDy",
        "colab_type": "code",
        "colab": {}
      },
      "cell_type": "code",
      "source": [
        "def cabin_num(c):\n",
        "  for i in range(len(c)):\n",
        "    if c[i] and type(c[i]) == str and len(str(c[i]).split()) > 0:\n",
        "      c[i] = str(c[i]).split()[0]\n",
        "      alp = c[i][0]\n",
        "      num = c[i][1:]\n",
        "      alp = (ord(alp.lower())-96)\n",
        "      c[i] = int(str(alp)+num)\n",
        "  return c"
      ],
      "execution_count": 0,
      "outputs": []
    },
    {
      "metadata": {
        "id": "LMq2rMO2fhhC",
        "colab_type": "code",
        "colab": {}
      },
      "cell_type": "code",
      "source": [
        "raw_data = df.drop(labels=['Name', 'Ticket'], axis=1)\n",
        "raw_data_1 = df1.drop(labels=['Name', 'Ticket'], axis=1)\n",
        "sex_mapping = {'male': 0, 'female': 1}\n",
        "embark_mapping =  {'S': 0, 'C': 1, 'Q': 2}\n",
        "raw_data.replace({'Sex': sex_mapping, 'Embarked': embark_mapping}, inplace=True)\n",
        "raw_data_1.replace({'Sex': sex_mapping, 'Embarked': embark_mapping}, inplace=True)\n",
        "c = np.array(raw_data['Cabin'])\n",
        "c1 = np.array(raw_data_1['Cabin'])\n",
        "raw_data['Cabin'] = cabin_num(c)\n",
        "raw_data_1['Cabin'] = cabin_num(c1)\n",
        "raw_data.fillna(raw_data.median(), inplace=True)\n",
        "raw_data_1.fillna(raw_data.median(), inplace=True)\n",
        "test = raw_data_1\n",
        "train = raw_data\n",
        "train_y = train['Survived']\n",
        "train.drop(labels=['Survived'], axis=1, inplace=True)\n",
        "x = train"
      ],
      "execution_count": 0,
      "outputs": []
    },
    {
      "metadata": {
        "id": "ADAPmb4pgjen",
        "colab_type": "code",
        "colab": {
          "base_uri": "https://localhost:8080/",
          "height": 34
        },
        "outputId": "3838b78f-d553-42ce-8bbb-4208640e2886"
      },
      "cell_type": "code",
      "source": [
        "clf = SVC(gamma='auto', kernel='linear')\n",
        "t0 = time()\n",
        "clf.fit(x, train_y)\n",
        "print('Training time:', round(time() - t0, 3), 's')\n",
        "pred = clf.predict(test)"
      ],
      "execution_count": 4,
      "outputs": [
        {
          "output_type": "stream",
          "text": [
            "Training time: 83.149 s\n"
          ],
          "name": "stdout"
        }
      ]
    },
    {
      "metadata": {
        "id": "DTGdYr5AgmhV",
        "colab_type": "code",
        "colab": {}
      },
      "cell_type": "code",
      "source": [
        "pred = pred.tolist()\n",
        "passenger = test['PassengerId']\n",
        "passenger = np.array(passenger).tolist()\n",
        "\n",
        "with open('output.csv','w', newline='') as file:\n",
        "  w = csv.writer(file)\n",
        "  w.writerow(['PassengerId', 'Survived'])\n",
        "  w.writerows(zip(passenger, pred))"
      ],
      "execution_count": 0,
      "outputs": []
    },
    {
      "metadata": {
        "id": "yGrjTj0UiQrr",
        "colab_type": "code",
        "colab": {}
      },
      "cell_type": "code",
      "source": [
        ""
      ],
      "execution_count": 0,
      "outputs": []
    }
  ]
}
{
  "cells": [
    {
      "metadata": {
        "_uuid": "8fe6b8f46cf94490f3cff24e082fab3090557c87"
      },
      "cell_type": "markdown",
      "source": "# What's in a Data Scientist's backpack?\n\nData Scientist is certainly the sexiest job of the 21st century and to aspire as a data scientist includes knowing the best modern tools and techniques of the field. I've created a visualization for some of those questions that give insights into the current favourites (tool) in data science.\n\n![Kaggle Survey 2018](https://lh3.googleusercontent.com/_dAGBDOntAtS2atJybHI-ptSOVbd8g5JTJUyhV8vNvaBTkRvz4vymQCp7zbLCXr3n4BUNxm9_sWnSaVAvWNJsDOBrbiQmcJL5w2nPcjhSqAcF5jdTX0p2STWuZxES94AYmXh05w__1i3oo_ze1EMcC0HUTnHrmixcSH8jHhq47GItZqKMP9wvsmqevuWJZqMOKzhVVvxjdIIASVNKdUoJDnoQJaCdD5ow1AOk4mHlwXq7puAidFUuZdx0GYaP-3b2suoagI4FfSvkWGokgwRdbEG8LhKzMp9ZcK-7gPcUHBDgxL3UfFplxCHlFI_nvP8ME7VwAAAHvy2F8ssBr2Imo-2Vh2mDWZ1MUa5pF1ODdoI1OnnhhEX6S5usC_KcbVWt6x9LdT9MK7LCmtFScmQEHVMvi9SoDF6KL5aZIMDlg4eyeQR6TDbp_h8VODBY88dhOI6iIdYK8V9Q3guwJ3bKeWFkmsb9oXW9p1cSmnhqyVYwCzDvGa5WJsJpAw3puc0nJTxsKNs1R_he5R0p37Oz3yZKq-zTbmz5A26TO2Amh1byMB7Bz9fSSJPDjTfDBFAws3pH39mNFu2bhwDh2Dk5IO2vNJPYlL3GhV-9PLukkMpw68lz9llyj4gIX5Uw_llQafT6RUuIBO_V80e9xFgo-ZFRA=w542-h577-no)"
    },
    {
      "metadata": {
        "id": "4_DbzJsQvqZ_",
        "colab_type": "code",
        "colab": {
          "base_uri": "https://localhost:8080/",
          "height": 51
        },
        "outputId": "f52e143b-ce33-415e-a8be-c227123deced",
        "trusted": true,
        "_uuid": "201f102af8e570668f39f582457401dcd70aa7fe"
      },
      "cell_type": "code",
      "source": "import pandas as pd\nimport numpy as np\nimport nltk\n# nltk.download('stopwords')\nfrom nltk.corpus import stopwords\nimport matplotlib.pyplot as plt\n# %matplotlib inline",
      "execution_count": null,
      "outputs": []
    },
    {
      "metadata": {
        "id": "sZOKgZ7pv-lh",
        "colab_type": "code",
        "colab": {
          "base_uri": "https://localhost:8080/",
          "height": 2482
        },
        "outputId": "8ab9cf9a-c865-4cf0-e61a-beb793aa3666",
        "trusted": true,
        "_uuid": "748b129280e58d6157f2ba63fef1d92e12c69911"
      },
      "cell_type": "code",
      "source": "response = pd.read_csv('../input/freeFormResponses.csv', low_memory=False)\nsurvey = pd.read_csv('../input/SurveySchema.csv', low_memory=False)\nmcr = pd.read_csv('../input/multipleChoiceResponses.csv', low_memory=False)",
      "execution_count": null,
      "outputs": []
    },
    {
      "metadata": {
        "_uuid": "f60c492c614b38ec9d9ed82e3fe6f3842008cf6c"
      },
      "cell_type": "markdown",
      "source": "## Data preprocessing\n\nBasic data cleaning and pre-processing."
    },
    {
      "metadata": {
        "id": "F524TVWZYyiV",
        "colab_type": "code",
        "colab": {},
        "trusted": true,
        "_uuid": "12f69a77f9ef9989d74c9873bf42b551ca9dcc49"
      },
      "cell_type": "code",
      "source": "def clean_data(t_res_Q12):\n  res_Q12 = []\n  res_Q12_res = 0\n  dic_res_Q12 = {}\n  for i in t_res_Q12:\n    if i.lower() != 'nan':\n      res_Q12.append(i.lower().strip())\n      res_Q12_res += 1\n  del(res_Q12[0])\n  temp_split = []\n  temp_index = []\n  for i in range(len(res_Q12)):\n    if len(res_Q12[i].split()) > 1:\n      temp_split += res_Q12[i].split()\n      temp_index.append(i)\n    elif len(res_Q12[i].split(',')) > 1:\n      temp_split += res_Q12[i].split(',')\n      temp_index.append(i)\n    elif len(res_Q12[i].split(', ')) > 1:\n      temp_split += res_Q12[i].split(',')\n      temp_index.append(i)\n    elif len(res_Q12[i].split('/')) > 1:\n      temp_split += res_Q12[i].split(',')\n      temp_index.append(i)\n  for i in sorted(temp_index, reverse=True):\n    del(res_Q12[i])\n  res_Q12 += temp_split\n  stop_words = stopwords.words('english')\n  stop_words += ['none', 'nothing','use',' ', ',', '.', 'software', 'tool', 'tools', 'mostly', 'notebook', 'ide', 'studio', 'data']\n  for i in res_Q12:\n    if i not in stop_words:\n      i = i.strip(',')\n      i = i.strip()\n      if i == 'microsoft' or i == 'ms':\n        i = 'excel'\n      elif i == 'google' or i =='sheet':\n        i = 'sheets'\n      elif i == 'power' or i == 'bi':\n        i = 'powerbi'\n      elif i == 'qlik':\n        i = 'qlikview'\n      elif i == 'rstudio':\n        i = 'r'\n      elif i == 'jupyterlab':\n        i = 'jupyter'\n      elif i == 'watson':\n        i = 'ibm'\n      elif i == 'pytorch':\n        i = 'torch'\n      elif i == 'vidhya' or i == 'analytics':\n        i = 'analytics vidhya'\n      elif i == 'science' or i == 'central':\n        i = 'data science central'\n      dic_res_Q12[i] = dic_res_Q12.get(i, 0) + 1\n  dic_res_Q12 = sorted(dic_res_Q12.items(), key= lambda x: x[1], reverse=True)\n  return dic_res_Q12",
      "execution_count": null,
      "outputs": []
    },
    {
      "metadata": {
        "_uuid": "990d65428385bac8a8fe87a6e5ed9cfdeed2a4c0"
      },
      "cell_type": "markdown",
      "source": "## Primary analysis tools\n\nUser responses for their primary analysis tools"
    },
    {
      "metadata": {
        "id": "IEmFO2mRwFX5",
        "colab_type": "code",
        "colab": {
          "base_uri": "https://localhost:8080/",
          "height": 317
        },
        "outputId": "d8ee546d-9cb3-48cc-d4ee-e7ec3296cb21",
        "trusted": true,
        "_uuid": "66fd9101e986947d552c1944188a65a949d93f79",
        "_kg_hide-output": true,
        "_kg_hide-input": true,
        "scrolled": true
      },
      "cell_type": "code",
      "source": "t_res_Q12 = np.array(list(response['Q12_OTHER_TEXT']))\ndic_res_Q12 = clean_data(t_res_Q12)\nplt_res_Q12 = dic_res_Q12[:10]\nplt.bar(range(len(plt_res_Q12)), [val[1] for val in plt_res_Q12], align='center', label=\"Recorded user responses\")\nplt.xticks(range(len(plt_res_Q12)), [val[0] for val in plt_res_Q12])\nplt.xticks(rotation=70)\nplt.legend()\nplt.title('Other analysis tools')\nplt.draw()\nplt.savefig('foo.png', bbox_inches='tight', dpi=300)\nplt.show()",
      "execution_count": null,
      "outputs": []
    },
    {
      "metadata": {
        "_uuid": "fa6aa584767f2660e44ec5275a13f033920dba17"
      },
      "cell_type": "markdown",
      "source": "![Other analysis tools](https://lh3.googleusercontent.com/21AO6MqREvpTSdq1dgbm2qXfHYMcNb7V4henMXzmTqdxjWCZNBn7mucYHS9-vqY2p-uXHPTKfh60H4Bx8zK8xTW8dcKq0t6583KfrOr-apsZcaG9O7p8NSiAtOsy9Z0vt1foQSZbmW60s5sj_8IY1P_vU6uMqI9mAt3UMuENA2vOCixG5Ghn76zVF6TIDIZxX7G6lPdwDG4trdCiN9iKdSgVjzKALroyjWxKZ8BjdCn9CLohB6UaZMhYG-1-tS5OOi9dPGUOtUR8CsnWHsxI5VUvPKEGiTDqYXzhJXpuCwtGyN7UT4jkqcPbxcfes53HF94GdS3j2LwSpSwuzO3WZCIAERq2WXDLb4kNgScCMVx10IP9mmtRrLSNXMnugAGy37U-6cRtaCpKJ2ikM7K9iD0hyOL8PxGmdp0kf3msbl2BmzfC5DFMdJOzoq9scr1IeajsnSCOaoMHRA9wMVtgz_To8kwLQDrY1Ot3jrFTqra3iZjr2NBdQoO-wnLeu3wQLUE0XAwBc-ms9mRB1Wx6BlB4KeCTdGlKpwC1DP1gQtRzusf6grmvGSWrBaDrv8tLOzqsFMrxeAZ5s9I0bc_LRqgkU91fT2fEqhuTHHVKod8HSNEPgD13xYnK22z9-BaKol9Szn-UzuqPPoYjP1SXxkYYhA=w719-h577-no)"
    },
    {
      "metadata": {
        "_uuid": "865cfd329f18c847ddc3e525692146a8f18c3f42"
      },
      "cell_type": "markdown",
      "source": "## Basic statistical analysis tools\n\nUser responses for their basic statistical analysis tools such as Microsoft Excel,  Google Sheets, etc."
    },
    {
      "metadata": {
        "id": "OjCoUDC2KMLB",
        "colab_type": "code",
        "colab": {
          "base_uri": "https://localhost:8080/",
          "height": 303
        },
        "outputId": "86930850-b091-4c7b-9cd8-9acdcdd50055",
        "trusted": true,
        "_uuid": "a801df884a165139123799561d41da51f7c6c513",
        "_kg_hide-input": true,
        "_kg_hide-output": true
      },
      "cell_type": "code",
      "source": "t_res_Q121 = np.array(list(response['Q12_Part_1_TEXT']))\ndic_res_Q121 = clean_data(t_res_Q121)\nplt_res_Q121 = dic_res_Q121[:10]\nplt.bar(range(len(plt_res_Q121)), [val[1] for val in plt_res_Q121], align='center', color='r', label=\"Recorded user responses\")\nplt.xticks(range(len(plt_res_Q121)), [val[0] for val in plt_res_Q121])\nplt.xticks(rotation=70)\nplt.legend()\nplt.title('Basic statistical analysis tools')\nplt.draw()\nplt.savefig('foo1.png', bbox_inches='tight', dpi=300)\nplt.show()",
      "execution_count": null,
      "outputs": []
    },
    {
      "metadata": {
        "_uuid": "5e365acb90d033090d78a4180651829f913b91c4"
      },
      "cell_type": "markdown",
      "source": "![Basic statistical analysis tools](https://lh3.googleusercontent.com/cNo1pML9PdyChNUOwsmFYbKa-cw4yLFpMpvZPW96a0MeVWbwFn0V4s_Z_4Z5sOxNcgah44giRCnzQw04lCGbXIitSO2lcaWE5HtWuDxHqV4oE-YGqcfsb6P8PbuS0tJ7AWXH1ordHexmpWLmgel-Lcy59_KG9qg8Wr9NloJMm6_zGiYFi9OdGR0-6rS1RD0z1AFExMsHNvDfCNhmJFthQzIlJsmEjDDLUG6BU_H87eec-TfIx-nAtvAa5AwE1xG-9hcDIVLtQx_syvGPpQffkZ_9XnWnI-D5EGDhAeDDISwWf-Evqqel_pCzquyWNlkkaRAJYffeSKk37Fu575ypBECSVzC2jocBBKGqOGe6IwewaSg8_Ug1KO0D_eewxNgvK637-W8nx7giRKIozGEFSG8PZpBiQKKvuHSDdyXyNGZnRCXm6DFGaz857xwOAea0uopV3efypkPmiBSGO0b8Gam4LHwcnYN6AaCtvumyFuyATrASVpb27_EEErrMZNZ2l7hC-TAiPUsW1F1-T_Lacjowq6XMk9HV9da4N-P8xL8PlB2V731OQrx0M39ITG5BtSRxzb6L-JDVE6A3QCoi3r4GckbszS5qzQ0iKZsKSrOXsVlsv9fy17EMD7X-mSguiA043chUVibTMKokA9hiGNueNw=w819-h626-no)"
    },
    {
      "metadata": {
        "_uuid": "b187b2ddc29d212754b57be3f1b505e90abb0657"
      },
      "cell_type": "markdown",
      "source": "## Advanced statistical analysis tools\n\nUser responses for their advanced statistical analysis tools such as SPSS, SAS, etc."
    },
    {
      "metadata": {
        "id": "rWkYtlpfVUWc",
        "colab_type": "code",
        "colab": {
          "base_uri": "https://localhost:8080/",
          "height": 304
        },
        "outputId": "e04239d0-028a-442b-8df0-397aa0f202c7",
        "trusted": true,
        "_uuid": "ff69417e775deae454e0ec83d13d2f674ddd3e8e",
        "_kg_hide-input": true,
        "_kg_hide-output": true
      },
      "cell_type": "code",
      "source": "t_res_Q122 = np.array(list(response['Q12_Part_2_TEXT']))\ndic_res_Q122 = clean_data(t_res_Q122)\nplt_res_Q122 = dic_res_Q122[:10]\nplt.bar(range(len(plt_res_Q122)), [val[1] for val in plt_res_Q122], align='center', color='g', label=\"Recorded user responses\")\nplt.xticks(range(len(plt_res_Q122)), [val[0] for val in plt_res_Q122])\nplt.xticks(rotation=70)\nplt.legend()\nplt.title('Advanced statistical analysis tools')\nplt.draw()\nplt.savefig('foo2.png', bbox_inches='tight', dpi=300)\nplt.show()",
      "execution_count": null,
      "outputs": []
    },
    {
      "metadata": {
        "_uuid": "f9e4dc2cf1e9f67fcc0b1da23d022e8ceb1b07f6"
      },
      "cell_type": "markdown",
      "source": "![Advance tools](https://lh3.googleusercontent.com/7JV_6bC06wn1g_Vr8qkrflbq_pEEJEj54POQVEbtAf6bSQ7nF369Vg1bkDRMK25vVczngDJOWvugapg9WkCricLweq9P2po01071SZg_pabkl9bM-eCVXE_Us0NF0vKT8xZFhrpL53ee6vf34kS4PD6nghV57j6bzNsdtywOee6wPnPeB-1zoWdJez0Od6WkC6GYQg3uutAu-CPhaoOj5zWWiXhmT9g7uihY5BCEGvULMJrLT1LCoAT6_ohR6yJgk6cTukwNx36sG_F4bPEda1kuVfeQJpvc6JTUxPwwLtUWTr5DwVmBFlmnwm0oaKww6AgssFBPFfodoJ67nl3oIqkcPysZYnQ5dE1ehcJ_fuzWFOARRwKAsUnZc2wAPXuez_PWLnzwp6jrZvoBKCBaXtHoyek5BSVSLNnqlrloNsSCFOeI2VJBjRqQ1FQosMJcJrOsTHMvylZ8eY4sTVn6luowipYsupRZeNG-wLzcfLORaqAama6zFqmFSoaqYctDPFkPfd28f3gQapXl77e8kJZcvNFO3idu9CxOjMG63eFFa6_RQuyhvWdQkOyk3iuIN-ZmtNrIXga4mepC18iu8wX_sWH6oSV_8IcPHNQyogtKxt1HW5X6md8ww9Sr5HdDYygjZGbYZFx5fwL3ApkLdU7vcg=w814-h626-no)"
    },
    {
      "metadata": {
        "_uuid": "5509454f78b7b2941fa6a8dfad792ba5b56cc902"
      },
      "cell_type": "markdown",
      "source": "## Business intelligence tools\n\nUser responses for business intelligence tools such as Salesforce, Tableau, Spotfire, etc."
    },
    {
      "metadata": {
        "id": "eQyfNorfaVYs",
        "colab_type": "code",
        "colab": {
          "base_uri": "https://localhost:8080/",
          "height": 317
        },
        "outputId": "3ad55da9-4fd1-4d5f-f6f6-62298f1e700c",
        "trusted": true,
        "_uuid": "5631810b198f369bf6666aaec9c5afc1efd43bb4",
        "_kg_hide-input": true,
        "_kg_hide-output": true
      },
      "cell_type": "code",
      "source": "t_res_Q123 = np.array(list(response['Q12_Part_3_TEXT']))\ndic_res_Q123 = clean_data(t_res_Q123)\nplt_res_Q123 = dic_res_Q123[:10]\nplt.bar(range(len(plt_res_Q123)), [val[1] for val in plt_res_Q123], align='center', color='orange', label=\"Recorded user responses\")\nplt.xticks(range(len(plt_res_Q123)), [val[0] for val in plt_res_Q123])\nplt.xticks(rotation=70)\nplt.legend()\nplt.title('Business intelligence tools')\nplt.draw()\nplt.savefig('foo3.png', bbox_inches='tight', dpi=300)\nplt.show()",
      "execution_count": null,
      "outputs": []
    },
    {
      "metadata": {
        "_uuid": "a55ec1336e63175c78455eaa54bf4402031c1acb"
      },
      "cell_type": "markdown",
      "source": "![Business intelligence tools](https://lh3.googleusercontent.com/sY8QcWtQvcMZD21ytVOje1nC_hvbRxIw_he2pYfR7m7-rW3M8GUwxXd4FY8njmSNe1oULmuaeWORa_sZ2ZRLLk2z3Jg3Z-269HI_SI0zZPRf4I25v0MMfjFy-TJi3tvRtcUAobFq2gN7x7fW0Vi_yectS1c-08tzBvHnAWwGFe9p0f5e7YTCCn9C4tOSiZzT32puSiVAFinNI99Ct7DS879JI_sUXb0k9DPl2knv54Qlk4f1Hvnoz5rF3CBzVJSYkMhU8qHROgkzCP3LFnaHVFglAtZ6xX658gm2wdmr1QMRgQ80axy8hE7gvoQNLdsL-t4fGqYmXaJLxEEMkyJNbKz3XRFJ3qC156RK3mqSSCCwbQrC-STcC4cWk9B-YVslun6fK4PrH1MAmK4qampfuIbJyWtPmqXMOapwAla1Jr0Gjs6dLfD93XSMXIJ2-r_Vy_tLMmHYNTM7WyM2h08hukS8Ly19aG72dW1yFXX1JzdBWlR5dn4rtJAfca1qr8VWTjZ6Rde9pFheaNtd_wNj7JAJpDWc-IVjBDlv5kWYIpyJE3--Uzh9XrwsGTZ-OHufaaoymqR4Wvhm6JHIsaLurd0LQxz5xxPRO6oyuE-AA6uGLADK0QvobzFwrhONaX8PSGBcic1trNMUJUE2Z3PH2cPHLA=w779-h626-no)"
    },
    {
      "metadata": {
        "_uuid": "205e187a096e63ff4d46d5a94b9cd534487e46da"
      },
      "cell_type": "markdown",
      "source": "## Local or hosted enviroment tools\n\nUser responses for local or hosted enviroment tools such as RStudio, JupyterLab, etc."
    },
    {
      "metadata": {
        "id": "FNGkaaqsbnPR",
        "colab_type": "code",
        "colab": {
          "base_uri": "https://localhost:8080/",
          "height": 317
        },
        "outputId": "9f63472f-2368-4a55-968a-6dfc65648b11",
        "trusted": true,
        "_uuid": "64988750356da88400154def5c54df44aa552146",
        "_kg_hide-input": true,
        "_kg_hide-output": true
      },
      "cell_type": "code",
      "source": "t_res_Q124 = np.array(list(response['Q12_Part_4_TEXT']))\ndic_res_Q124 = clean_data(t_res_Q124)\nplt_res_Q124 = dic_res_Q124[:10]\nplt.bar(range(len(plt_res_Q124)), [val[1] for val in plt_res_Q124], align='center', color='pink', label=\"Recorded user responses\")\nplt.xticks(range(len(plt_res_Q124)), [val[0] for val in plt_res_Q124])\nplt.xticks(rotation=70)\nplt.legend()\nplt.title('Local or hosted enviroment tools')\nplt.draw()\nplt.savefig('foo4.png', bbox_inches='tight', dpi=300)\nplt.show()",
      "execution_count": null,
      "outputs": []
    },
    {
      "metadata": {
        "_uuid": "921d04a47ba2a364afd95221636de4b29605f978"
      },
      "cell_type": "markdown",
      "source": "![Local or hosted env tools](https://lh3.googleusercontent.com/cVuRJKNzMeg7Gy741Cb2Srgg_E0nOpOZyaKpJNrHJ5fH7pAPFaZjefOzWC4m7irqQnSIZSY60gVTRCCAreIvyZGMehlUgQXBbnHICJt03juCWxR3BYI0ZbRjy9KUT3FURKS1--ADvEFtxl8Ot1OxHPzo87paiHQzrVhKku62cwqzZxctK3EY_n5XxOXk1ggHC4tOSitnouoUAt8OVyL06RIAPfsbClG8vVFIvDWvDQZ1KyAoNnSJ8Zzx7UjYxSBiubthEWGjCdCmEqu5IMISFm3q58-WJ-pYRcQ3lw9OT8-P4IOMbhSmryiAT-EqAzhZODVZ9rgGO0RrvvX3_gjoMpp6J7V3apaMatLWZxfY7meCruTd2-3XT7qOZStg-_ghKkgFWPp8h7pepua0Q1EhrWHJMlQj3LIHUncnutQFtMFf1HZhgRx273zlKCdx_gtdu2COMA5Lve9HO2PIgpK1zbp7n4kMbU2j0DMRLEKn0HYlfdnNZ9mpDBT91q2g8KBJX5VhZH9K7vDIWez_Q2TkpSzkfV0h14O09uHTKhCASEJX_V7MGFpG-z3u0auVdN50dQ6spj20hZgGBydVesmQY0k1C3T6DNtLhvkznin58tF1Qkvp6b_75IMHFZ4axtbD4eXBfl_KV4FU5nCJjzFnptRR-A=w790-h626-no)"
    },
    {
      "metadata": {
        "_uuid": "3da1c8d95921b801d4b47272a5458d8bfdbdc7ac"
      },
      "cell_type": "markdown",
      "source": "## Cloud based tools\n\nUser responses for Cloud based tools such as AWS, GCP, Azure, etc."
    },
    {
      "metadata": {
        "id": "DsMdZ6X-dwgu",
        "colab_type": "code",
        "colab": {
          "base_uri": "https://localhost:8080/",
          "height": 316
        },
        "outputId": "b43b7a0c-d67f-45ad-d680-94f7c28fd7c9",
        "trusted": true,
        "_uuid": "941253d3a04b1374f01aea95b4f423d6d2d31d8c",
        "_kg_hide-input": true,
        "_kg_hide-output": true
      },
      "cell_type": "code",
      "source": "t_res_Q125 = np.array(list(response['Q12_Part_5_TEXT']))\ndic_res_Q125 = clean_data(t_res_Q125)\nplt_res_Q125 = dic_res_Q125[:10]\nplt.bar(range(len(plt_res_Q125)), [val[1] for val in plt_res_Q125], align='center', color='skyblue', label=\"Recorded user responses\")\nplt.xticks(range(len(plt_res_Q125)), [val[0] for val in plt_res_Q125])\nplt.xticks(rotation=70)\nplt.legend()\nplt.title('Cloud based tools')\nplt.draw()\nplt.savefig('foo5.png', bbox_inches='tight', dpi=300)\nplt.show()",
      "execution_count": null,
      "outputs": []
    },
    {
      "metadata": {
        "_uuid": "5ef9042aa47427d8c0b58d7275367c6e4ebb9c65"
      },
      "cell_type": "markdown",
      "source": "![Cloud based tools](https://lh3.googleusercontent.com/ywq4BDHP4S-tnsx8Qkx1MSGHXvXJMhIkcpnpS4ZWyti0w7-0J6Dskj_OsNZWsp9GUzRlWl4dg2w6eyvbGfTSK7YUAG_GiQqIDpXCGDPbkkyXJ7xttjktH1Uf2JHuYrmX2nxNp91Ijfw9jS1wtigQPWUZcuJJBP8nBuuL6PXssp3Pz0wsSRgsHYydvLYR63F-ENJGElBp5162V5HLL14Th94O0PvBirGzP2xm7Q17Ou41_Hd_4n9ZxKyoSh9oN6lKZwwk7ufC32x38_qKy4HDItFrsgFrWmjoAKpsgcdQM1BZ2BA4qhz9WaGFhz_iM3phNpjT0Noo5KiIB053QsmKRN4_9B-TS8P5ZfYUe7aeToIckvmwHkpjj-v8LIX0MBYtqa_T9w8WJZMkAx0jmoyEXnN_H6lFg0rRa2EmJpEPVsQtgONuYKldEIC4h5LVfx2c-Ht4mGbEY-3vX3AUWN5b6cW8CYZjXDr9HnKNY_xHR0vv_Ly5bVcgYtFFf-WvnxKr2qfasqg_CV0FYGbM78LAn2tY1IcgxWgNtIbWcsnWIX6QYU9nADuBXVtJjHyponM3GYlnyViPmgPIXQssgPInGyHJI9m8DS550jgFyONrdw9p3yx65BwZE0Odf6Px3KfkDCiOEyoDysjMnvVBIHS6QT3qhg=w780-h626-no)"
    },
    {
      "metadata": {
        "_uuid": "9ea714ec011969277962ddbad324f2173237d480"
      },
      "cell_type": "markdown",
      "source": "## Programming language used on a regular basis\n\nUser responses for programming language used on a regular basis such as Python, JAVA, Swift, etc."
    },
    {
      "metadata": {
        "id": "r8MBUZJWezo-",
        "colab_type": "code",
        "colab": {
          "base_uri": "https://localhost:8080/",
          "height": 328
        },
        "outputId": "c1536c64-6410-4066-bd0e-fbd2c38b5b82",
        "trusted": true,
        "_uuid": "876101c48e2b8691b154d8f91546d2f291880313",
        "_kg_hide-input": true,
        "_kg_hide-output": true
      },
      "cell_type": "code",
      "source": "t_res_Q13 = np.array(list(response['Q16_OTHER_TEXT']))\ndic_res_Q13 = clean_data(t_res_Q13)\nplt_res_Q13 = dic_res_Q13[:15]\nplt.bar(range(len(plt_res_Q13)), [val[1] for val in plt_res_Q13], align='center', color='purple', label=\"Recorded user responses\")\nplt.xticks(range(len(plt_res_Q13)), [val[0] for val in plt_res_Q13])\nplt.xticks(rotation=70)\nplt.legend()\nplt.title('Programming language used on a regular basis')\nplt.draw()\nplt.savefig('foo6.png', bbox_inches='tight', dpi=300)\nplt.show()",
      "execution_count": null,
      "outputs": []
    },
    {
      "metadata": {
        "_uuid": "60a20d0792b6d70cee584803b87171aa3647fba8"
      },
      "cell_type": "markdown",
      "source": "![Programming languages](https://lh3.googleusercontent.com/y2nL69UNMoJ5zFh2PaMWbmVsLA4kcfH_X-qk3Wg0AzLCfioeEfbwnN3s8NUyIJOdPHOyVz-LoJ-V2SP0shtku3RGeg0msXw1x9Ct-tfytx8aRs5gEA-oKYs_NYtCme9gKjIUZ4CMjzxNYnc8_gHVXE9DdSV8cwn6CmT2e67bANQFdd_-eqLi2sTCfeBiwixuUUVepuzAk9Oe60Lz6uk1sB-Ne-gvT_B8DL46GWfMcncPypvqgCLbs6Zx_CpcPRgMQULUaleyKC5CpcZC_DwAQoKTnLx3oqdkuJJabjQfkLhifONOoRfEJZCIol7vfHzRKEGtUHRrwOhkImtNJupVtu_mk7fjFspB1u_q6agB8XTIc6vLI8LUlWFLajsCjM_8hCEe2gJALMqAAVKP3fc4MaCeaW5AzpbflnaVAh7ebclAWus_5TIJec6WaDBa1X1JRXgQ-5ErhalFWSizF-PWORz3SUlQFCdr-g2NQHUtb9E7uPA_JhdL2osvIMOu2Ipxff0gfFa5k2C-nuQzl5Maobb2AH5-jh8FsCGBmLepqiume8XmR541NmRv6tyKTvgAGSggA0DOdm3PJRp7M__8KswiKZfSONOXEP9fdtWWKyHBDBce-jTsMyKDI2ZYMYkEHAMlGeHBsaWB0BZ_ljlPQfRBwg=w741-h626-no)"
    },
    {
      "metadata": {
        "_uuid": "a82b58735a7f315d69bbe5a4d4e1d801d2fa4bb9"
      },
      "cell_type": "markdown",
      "source": "## Most used ML frameworks in the past 5 years\n\nUser responses for most used ML frameworks in the past 5 years."
    },
    {
      "metadata": {
        "id": "pZn0ORLOg87g",
        "colab_type": "code",
        "colab": {
          "base_uri": "https://localhost:8080/",
          "height": 307
        },
        "outputId": "58ea42ce-8018-45fe-9251-d06d098c26d1",
        "trusted": true,
        "_uuid": "584570157440dc9f5df55203335330ed39357408",
        "_kg_hide-input": true,
        "_kg_hide-output": true
      },
      "cell_type": "code",
      "source": "t_res_Q14 = np.array(list(response['Q19_OTHER_TEXT']))\ndic_res_Q14 = clean_data(t_res_Q14)\nplt_res_Q14 = dic_res_Q14[:15]\nplt.bar(range(len(plt_res_Q14)), [val[1] for val in plt_res_Q14], align='center', color='crimson', label=\"Recorded user responses\")\nplt.xticks(range(len(plt_res_Q14)), [val[0] for val in plt_res_Q14])\nplt.xticks(rotation=70)\nplt.legend()\nplt.title('Most used ML frameworks in the past 5 years')\nplt.draw()\nplt.savefig('foo7.png', bbox_inches='tight', dpi=300)\nplt.show()",
      "execution_count": null,
      "outputs": []
    },
    {
      "metadata": {
        "_uuid": "6c44916b578f67c872b01d0690a98b888d0f6626"
      },
      "cell_type": "markdown",
      "source": "![ML frameworks](https://lh3.googleusercontent.com/kp5z7JE3b_9m8KrNwJO9IBnGGZAJ0I2WJn6IFG_g9M3vQp1B-_Eb8gZQbpsc-O99aV7wlIvfQUYxNpHMrA4Zal-gyjZYmQdllBOjNWkopkXYu2-i0NEt-yLOaUd1k7JRdWSPaQFqpP4fzM5N5gNygVcB0JVZQH24Sg9N_7otY4f_MSCX536O8x0P75EjisiskIz6-KzjsOpNEdROM5gT-TtLYfhFo8FJZQDVCxLSwg1tFVidogPh0oQDUWIoheYJSOIaGF-pW-_-wtDETKye83nslKNsfAkkhY7Fu9kSD0F0W3ovOXxFzfs4jg3k3knXDuvkLUEvIx3YUynNf8oVixwrunB1zwhwGSh7j_t3pPUsU45bNXdgaTEFzNe1rZK9QwU3wMX437pKbg-CxiW1rWG9i4eYsJCVXTd7eTueN9TPW08wNuS3mxuRWF_yyVp6tVFBJOCJrNDRLdbvT8W3AQnbH9ESVI8sSproxw7iAEwC8HT02x11D9U8C4fhlybsU3EWokZ0c3j5tc5qHQZ_6kWZpwyMvMGROcNFfPa8lp6z9Kc3I8M1RxA6Y3oJqkIljFlUaNNXmspf1pSTtqAU3IfMDWbS74WJlmQcA50ssapO_0oKhcZqMBVZNGyStbN50y2RHjrAwP_grtgmzw-X5MM35w=w793-h626-no)"
    },
    {
      "metadata": {
        "_uuid": "307045fae0215f9830df986fda4030ec2ae02bc6"
      },
      "cell_type": "markdown",
      "source": "## Most used data visualization tools in the past 5 years\n\nUser responses for most used data visualization tools in the past 5 years."
    },
    {
      "metadata": {
        "id": "PyS3idKfhvjW",
        "colab_type": "code",
        "colab": {
          "base_uri": "https://localhost:8080/",
          "height": 324
        },
        "outputId": "75edf343-97c3-4205-c574-0953cc7ffa3b",
        "trusted": true,
        "_uuid": "c54f321c868c67d5568010be01eef9c032edcaf3",
        "_kg_hide-input": true,
        "_kg_hide-output": true
      },
      "cell_type": "code",
      "source": "t_res_Q15 = np.array(list(response['Q21_OTHER_TEXT']))\ndic_res_Q15 = clean_data(t_res_Q15)\nplt_res_Q15 = dic_res_Q15[:10]\nplt.bar(range(len(plt_res_Q15)), [val[1] for val in plt_res_Q15], align='center', color='yellow', label=\"Recorded user responses\")\nplt.xticks(range(len(plt_res_Q15)), [val[0] for val in plt_res_Q15])\nplt.xticks(rotation=70)\nplt.legend()\nplt.title('Most used data visualization tools in the past 5 years')\nplt.draw()\nplt.savefig('foo8.png', bbox_inches='tight', dpi=300)\nplt.show()",
      "execution_count": null,
      "outputs": []
    },
    {
      "metadata": {
        "_uuid": "4dad4c44a9a32607b62bbcefc9315c721a9f2aca"
      },
      "cell_type": "markdown",
      "source": "![Data Visualization tools](https://lh3.googleusercontent.com/EaMxaKpPtBvOePWwHw1IM4hKf_W4-YN9xD436xngR1m1Zcq8LWzkZtHFxpMH4rJs20lDQffh6YzcCTjVeK1Tn2vyGzma2O9DmZX1R2d8KVQEN3Rj-M9P7tQ_OiZB8lW1eU1wFCcfaeeFBhY6rdxF0PQIZcXILGrIcBxSxeCsqgcn9tjn3xkJhdkZTIs9F9wWZbPf3XOcFqVzA1_MSEpPKbyo42KcH5vRtaT8Fp4ni0Li2dpUeaoHtPyO0CGAIgPZ6K0XZBq7QQHR3rLOLdB_5fRJvSxSeCpBsdVG0LryEzpOhwTOfOMdRv6LK7ihPrLSYv_OkS2ziBgAk8rTN_nfI2gpqeYNlrN-nRSGqnrzBRvfhA6hidsZ1t7CLxJDF_8bWh0Xl8O_B0UjnP7PLXnORiU3clf4rbE7bxN3fHAPoIM6JTH9WVgf-hHOgn8ggV5QT3VJhJQdG_4jVGPZ8AQ1QHjmGNIA-7TqToWG8l4_gbUJWEgrcuyDRjoigkynW0OI6eyxqxC9waw_ocy2bGrGBtEkQ4rhAqPAMqMACjx44nuAGu8uVVeGtLCx58_JtZOqba_6H5TV5VFmLYT_Ag98O793f4x4FpIA6Z74KSddMONVWokyVk9y_j_x10GBZvlsc0MJ50FXgJyvL6_Y2xeDqOlR-g=w750-h626-no)"
    },
    {
      "metadata": {
        "_uuid": "1e5b8961b8ce20091ed5dfcb41273229d12adbcc"
      },
      "cell_type": "markdown",
      "source": "## Public dataset source\n\nUser responses for their most recognized public dataset source."
    },
    {
      "metadata": {
        "id": "TQjJnwfVlMIt",
        "colab_type": "code",
        "colab": {
          "base_uri": "https://localhost:8080/",
          "height": 317
        },
        "outputId": "bbc431b2-5190-4c93-f4aa-fcf87e78a8c3",
        "trusted": true,
        "_uuid": "0b38a55e4679978e800de36ca0f639a9b133379b",
        "_kg_hide-input": true,
        "_kg_hide-output": true
      },
      "cell_type": "code",
      "source": "t_res_Q16 = np.array(list(response['Q33_OTHER_TEXT']))\ndic_res_Q16 = clean_data(t_res_Q16)\nplt_res_Q16 = dic_res_Q16[:10]\nplt.bar(range(len(plt_res_Q16)), [val[1] for val in plt_res_Q16], align='center', color='violet', label=\"Recorded user responses\")\nplt.xticks(range(len(plt_res_Q16)), [val[0] for val in plt_res_Q16])\nplt.xticks(rotation=70)\nplt.legend()\nplt.title('Public dataset source')\nplt.draw()\nplt.savefig('foo9.png', bbox_inches='tight', dpi=300)\nplt.show()",
      "execution_count": null,
      "outputs": []
    },
    {
      "metadata": {
        "_uuid": "598be2153b9399b86c34929e810bf12cbd956f3f"
      },
      "cell_type": "markdown",
      "source": "![Public dataset source](https://lh3.googleusercontent.com/8gn6XnEpfszoTi1UNHDHNMX1RYJ0eBpbkCYnEb9DgZPDkBZKS76DqoKjTiJHrwTrbDIEBBuCKFGONTYIWIjgfein7-tiTiTeCfElMsQz12mfrWYYIx2jRd7VYQNUjxKDlOwa0v91mXNELEXGZsx3m0FfxNEqvZbOGivJ55KqxdBCcYQmNuk4BqwS1e_2z_oa96cJkXtDfsvoxkiRrIePKbOwqM4_Tf7rfZE7NLX8QbZUnnh2UsAKOD0smqwG8mPmRIJcOYZ7iPAAf_zLepR9oFHDkC-JmI4V2vin0PH-c1c4cJeFOGq9RFdFNO0Uu4huLYcpL05Wtx0XzYnaYEyJb-OauFwBB3H2K2DwqGeilsePZprYRJyb-jNZQt1Os9lJU9qEFRMVGnCJUo-4tB5uLJhw4jCB3TXQZtkDSQbV6TS6VTpx6659mgntnpIrYs43nNq8kfN3CS8Eodbt15UjpcupyAOHRrcNEbhVd4YmUmcacM2ZQPZAGKdH3fRpqhlMez2KPtdzEMt_9VbxgPtfm4CEktWJifSxAiumlOWc8o8BXnWMHuaqUa6My6C8hEzItlj07mF4gov7G_Yf54Ki1EyNYwiIGtam_04y-DrmsYyGyczIMj3MsqKMI45BcoJM3BP9CKYPamM74rk4N2Y9m0y1gA=w767-h626-no)"
    },
    {
      "metadata": {
        "_uuid": "af45205809e001cc95a69dfc036cfa07f699362f"
      },
      "cell_type": "markdown",
      "source": "## Favourite media sources for ML\n\nUser responses for their favourite media sources for ML."
    },
    {
      "metadata": {
        "id": "DKf7zQFrlsZE",
        "colab_type": "code",
        "colab": {
          "base_uri": "https://localhost:8080/",
          "height": 357
        },
        "outputId": "9ef8cfa6-92c2-4a4e-cc01-c1c8ba28f366",
        "trusted": true,
        "_uuid": "f0b673fafbfe42d3d7b9cc2f802b99f1924640e9",
        "_kg_hide-input": true,
        "_kg_hide-output": true
      },
      "cell_type": "code",
      "source": "t_res_Q17 = np.array(list(response['Q38_OTHER_TEXT']))\ndic_res_Q17 = clean_data(t_res_Q17)\nplt_res_Q17 = dic_res_Q17[:10]\nplt.bar(range(len(plt_res_Q17)), [val[1] for val in plt_res_Q17], align='center', color='gold', label=\"Recorded user responses\")\nplt.xticks(range(len(plt_res_Q17)), [val[0] for val in plt_res_Q17])\nplt.xticks(rotation=70)\nplt.legend()\nplt.title('Favourite media sources for ML')\nplt.draw()\nplt.savefig('foo10.png', bbox_inches='tight', dpi=300)\nplt.show()",
      "execution_count": null,
      "outputs": []
    },
    {
      "metadata": {
        "_uuid": "88943943f005fd42fc71eb31b1b4849a8a38472b"
      },
      "cell_type": "markdown",
      "source": "![Media sources](https://lh3.googleusercontent.com/FF4Gkz8Ez6HofliBqKQFAe3EbRfyaRlhE7_bdgSSP0z53UZNXGnuYaUGJXE4jrVs4AOrfQSf7jduy46v5gqNlQfqILTiDtl71UC401Eykz9G3_O_137gmGZjV5DQtPr6lFtnCv5Y1rTlZZMNbVGu_yt5Lzz755H_wS5axufubrqfUXfAgvwqQB-p6Z06rnjLHf_hSvLhL5EvknPRFhrAHJeAtN4_bUdDqu43ePc8HLWYKvKkuA3vlaV7MDOCW5wypiwoYJctJ32EtBbmW2Z72Vg2-sL_NurDGYQhpQVqW0cn3C5zIcE-9zIvqm6rRSzIubmK-te2c0dHvN0-9jCnGRqdfWRD-g-emyMDDKmN_f5FrSMhUvRdxmfBAdmu70N8N43kBD-yxs5k-j-9nOK-X9gR_RPLrFxkbU6c224Dus40Hv5z-z3H-d9DHGOBmTUgVRTYVwrTy85bbW6nlNb-IBS_zcIQOl6blRdZQ1SgHjiDkNwHzjJMNrIfYl3mcyt8hUh-6oi6MAtUk4QlOIeIY411YI4PVfjKyx8P4Xcs3T4IeTQdLZ4ZhT0snzinO_ulhBiwg5O_vDxH6J16iR-L_nMmEYuzWzpBF0C8lo9As9haMaogMNJKJbc_JJ4Sh6t9EpuCTKyckQJli6o8EeW4imAcxw=w687-h626-no)"
    },
    {
      "metadata": {
        "id": "apXPjceumKGV",
        "colab_type": "code",
        "colab": {},
        "trusted": false,
        "_uuid": "948b4a94b7ffc3e5fa9edf734e206cc03819139f"
      },
      "cell_type": "markdown",
      "source": "## Conclusively\n\n* Although tools do not define a datascientist, they're their greatest assets and it's important to know the trends in toolkits to maybe collborate efficiently with your team.\n* I've tried to clean and process much of the ambiguities in the responses but this may not represent appropriate trends or data.\n*  In my personal experience, there will be a stage where you'll combine multiple tools and libraries for your end product but if you're aspiring to be a data-scientist, learning the internal workings of the tools & libraries is an important experience in the early stages.\n* I'll try and figure out (hopefully) more from schema's and maybe other datasets and update the version as such. Hope this was insightful!"
    }
  ],
  "metadata": {
    "colab": {
      "name": "2018 Kaggle ML & DS Survey Challenge.ipynb",
      "version": "0.3.2",
      "provenance": [],
      "collapsed_sections": []
    },
    "kernelspec": {
      "display_name": "Python 3",
      "language": "python",
      "name": "python3"
    },
    "accelerator": "GPU",
    "language_info": {
      "name": "python",
      "version": "3.6.6",
      "mimetype": "text/x-python",
      "codemirror_mode": {
        "name": "ipython",
        "version": 3
      },
      "pygments_lexer": "ipython3",
      "nbconvert_exporter": "python",
      "file_extension": ".py"
    }
  },
  "nbformat": 4,
  "nbformat_minor": 1
}